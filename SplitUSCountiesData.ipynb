{
 "cells": [
  {
   "cell_type": "code",
   "execution_count": 2,
   "id": "c9932111-235a-4340-96f6-798ecfc06245",
   "metadata": {},
   "outputs": [
    {
     "name": "stdout",
     "output_type": "stream",
     "text": [
      "Dataset split into 10 files named USCountiesData_1.csv to USCountiesData_10.csv successfully!\n"
     ]
    }
   ],
   "source": [
    "import pandas as pd\n",
    "\n",
    "## path to the dataset\n",
    "file_path = r'C:\\Users\\jolen\\OneDrive\\Desktop\\MBS\\us-counties.csv'\n",
    "\n",
    "## to load the dataset\n",
    "data = pd.read_csv(file_path)\n",
    "\n",
    "## to breakdown the dataset with 2.5 million rows (if the original dataset has fewer rows)\n",
    "rows_needed = 2_500_000\n",
    "data_expanded = pd.concat([data] * (rows_needed // len(data) + 1), ignore_index=True).iloc[:rows_needed]\n",
    "\n",
    "## to calculate rows per file\n",
    "rows_per_file = rows_needed // 10\n",
    "\n",
    "# to split the dataset into 10 parts and save each part as a separate file\n",
    "for i in range(10):\n",
    "    start_row = i * rows_per_file\n",
    "    end_row = (i + 1) * rows_per_file if i < 9 else rows_needed  ## to ensure the last file gets any remaining rows\n",
    "    split_data = data_expanded.iloc[start_row:end_row]\n",
    "    split_file_path = f'USCountiesData_{i+1}.csv'  ## to save in the current directory\n",
    "    split_data.to_csv(split_file_path, index=False)\n",
    "\n",
    "print(\"Dataset split into 10 files named USCountiesData_1.csv to USCountiesData_10.csv successfully!\")\n"
   ]
  },
  {
   "cell_type": "code",
   "execution_count": null,
   "id": "80fed6d0-d0e9-472a-925e-5368a06c4c05",
   "metadata": {},
   "outputs": [],
   "source": []
  }
 ],
 "metadata": {
  "kernelspec": {
   "display_name": "Python 3 (ipykernel)",
   "language": "python",
   "name": "python3"
  },
  "language_info": {
   "codemirror_mode": {
    "name": "ipython",
    "version": 3
   },
   "file_extension": ".py",
   "mimetype": "text/x-python",
   "name": "python",
   "nbconvert_exporter": "python",
   "pygments_lexer": "ipython3",
   "version": "3.12.4"
  }
 },
 "nbformat": 4,
 "nbformat_minor": 5
}
